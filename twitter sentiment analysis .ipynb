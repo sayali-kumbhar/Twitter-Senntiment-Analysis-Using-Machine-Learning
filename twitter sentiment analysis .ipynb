{
 "cells": [
  {
   "cell_type": "code",
   "execution_count": 1,
   "id": "f8c7b36b",
   "metadata": {},
   "outputs": [],
   "source": [
    "import pandas as pd\n",
    "import re\n",
    "import pickle\n",
    "import numpy as np\n",
    "\n",
    "# plotting\n",
    "import seaborn as sns\n",
    "from wordcloud import WordCloud\n",
    "import matplotlib.pyplot as plt\n",
    "\n",
    "# nltk\n",
    "from nltk.stem import WordNetLemmatizer\n",
    "\n",
    "# sklearn\n",
    "from sklearn.svm import LinearSVC\n",
    "from sklearn.naive_bayes import BernoulliNB\n",
    "from sklearn.linear_model import LogisticRegression\n",
    "\n",
    "from sklearn.model_selection import train_test_split\n",
    "from sklearn.feature_extraction.text import TfidfVectorizer\n",
    "from sklearn.metrics import confusion_matrix, classification_report"
   ]
  },
  {
   "cell_type": "code",
   "execution_count": 2,
   "id": "5044e1f4",
   "metadata": {},
   "outputs": [],
   "source": [
    "import warnings\n",
    "warnings.filterwarnings(\"ignore\")"
   ]
  },
  {
   "cell_type": "code",
   "execution_count": 3,
   "id": "a40d72ae",
   "metadata": {},
   "outputs": [],
   "source": [
    "from nltk.corpus import stopwords"
   ]
  },
  {
   "cell_type": "code",
   "execution_count": 44,
   "id": "3e2d9b5f",
   "metadata": {},
   "outputs": [],
   "source": [
    "columns=[\"target\", \"id\", \"date\", \"flag\", \"user\", \"text\"]\n",
    "dataset=pd.read_csv('twitter_data.csv',encoding=\"ISO-8859-1\",names=columns)"
   ]
  },
  {
   "cell_type": "code",
   "execution_count": 5,
   "id": "d32f2bf1",
   "metadata": {},
   "outputs": [
    {
     "data": {
      "text/html": [
       "<div>\n",
       "<style scoped>\n",
       "    .dataframe tbody tr th:only-of-type {\n",
       "        vertical-align: middle;\n",
       "    }\n",
       "\n",
       "    .dataframe tbody tr th {\n",
       "        vertical-align: top;\n",
       "    }\n",
       "\n",
       "    .dataframe thead th {\n",
       "        text-align: right;\n",
       "    }\n",
       "</style>\n",
       "<table border=\"1\" class=\"dataframe\">\n",
       "  <thead>\n",
       "    <tr style=\"text-align: right;\">\n",
       "      <th></th>\n",
       "      <th>target</th>\n",
       "      <th>id</th>\n",
       "      <th>date</th>\n",
       "      <th>flag</th>\n",
       "      <th>user</th>\n",
       "      <th>text</th>\n",
       "    </tr>\n",
       "  </thead>\n",
       "  <tbody>\n",
       "    <tr>\n",
       "      <th>0</th>\n",
       "      <td>0</td>\n",
       "      <td>1467810369</td>\n",
       "      <td>Mon Apr 06 22:19:45 PDT 2009</td>\n",
       "      <td>NO_QUERY</td>\n",
       "      <td>_TheSpecialOne_</td>\n",
       "      <td>@switchfoot http://twitpic.com/2y1zl - Awww, t...</td>\n",
       "    </tr>\n",
       "    <tr>\n",
       "      <th>1</th>\n",
       "      <td>0</td>\n",
       "      <td>1467810672</td>\n",
       "      <td>Mon Apr 06 22:19:49 PDT 2009</td>\n",
       "      <td>NO_QUERY</td>\n",
       "      <td>scotthamilton</td>\n",
       "      <td>is upset that he can't update his Facebook by ...</td>\n",
       "    </tr>\n",
       "    <tr>\n",
       "      <th>2</th>\n",
       "      <td>0</td>\n",
       "      <td>1467810917</td>\n",
       "      <td>Mon Apr 06 22:19:53 PDT 2009</td>\n",
       "      <td>NO_QUERY</td>\n",
       "      <td>mattycus</td>\n",
       "      <td>@Kenichan I dived many times for the ball. Man...</td>\n",
       "    </tr>\n",
       "    <tr>\n",
       "      <th>3</th>\n",
       "      <td>0</td>\n",
       "      <td>1467811184</td>\n",
       "      <td>Mon Apr 06 22:19:57 PDT 2009</td>\n",
       "      <td>NO_QUERY</td>\n",
       "      <td>ElleCTF</td>\n",
       "      <td>my whole body feels itchy and like its on fire</td>\n",
       "    </tr>\n",
       "    <tr>\n",
       "      <th>4</th>\n",
       "      <td>0</td>\n",
       "      <td>1467811193</td>\n",
       "      <td>Mon Apr 06 22:19:57 PDT 2009</td>\n",
       "      <td>NO_QUERY</td>\n",
       "      <td>Karoli</td>\n",
       "      <td>@nationwideclass no, it's not behaving at all....</td>\n",
       "    </tr>\n",
       "  </tbody>\n",
       "</table>\n",
       "</div>"
      ],
      "text/plain": [
       "   target          id                          date      flag  \\\n",
       "0       0  1467810369  Mon Apr 06 22:19:45 PDT 2009  NO_QUERY   \n",
       "1       0  1467810672  Mon Apr 06 22:19:49 PDT 2009  NO_QUERY   \n",
       "2       0  1467810917  Mon Apr 06 22:19:53 PDT 2009  NO_QUERY   \n",
       "3       0  1467811184  Mon Apr 06 22:19:57 PDT 2009  NO_QUERY   \n",
       "4       0  1467811193  Mon Apr 06 22:19:57 PDT 2009  NO_QUERY   \n",
       "\n",
       "              user                                               text  \n",
       "0  _TheSpecialOne_  @switchfoot http://twitpic.com/2y1zl - Awww, t...  \n",
       "1    scotthamilton  is upset that he can't update his Facebook by ...  \n",
       "2         mattycus  @Kenichan I dived many times for the ball. Man...  \n",
       "3          ElleCTF    my whole body feels itchy and like its on fire   \n",
       "4           Karoli  @nationwideclass no, it's not behaving at all....  "
      ]
     },
     "execution_count": 5,
     "metadata": {},
     "output_type": "execute_result"
    }
   ],
   "source": [
    "dataset.head()"
   ]
  },
  {
   "cell_type": "markdown",
   "id": "951161a5",
   "metadata": {},
   "source": [
    "This is the sentiment140 dataset.<br>\n",
    "It contains 1,600,000 tweets extracted using the twitter api . The tweets have been annotated (0 = negative, 2 = neutral, 4 = positive) and they can be used to detect sentiment .\n",
    "It contains the following 6 fields:<br>\n",
    "1.target<br>\n",
    "2.id<br>\n",
    "3.date<br>\n",
    "4.flag<br>\n",
    "5.user<br>\n",
    "6.text<br>\n",
    "we need only target and text column so we removing all other columns"
   ]
  },
  {
   "cell_type": "code",
   "execution_count": 6,
   "id": "858208c1",
   "metadata": {},
   "outputs": [
    {
     "data": {
      "text/html": [
       "<div>\n",
       "<style scoped>\n",
       "    .dataframe tbody tr th:only-of-type {\n",
       "        vertical-align: middle;\n",
       "    }\n",
       "\n",
       "    .dataframe tbody tr th {\n",
       "        vertical-align: top;\n",
       "    }\n",
       "\n",
       "    .dataframe thead th {\n",
       "        text-align: right;\n",
       "    }\n",
       "</style>\n",
       "<table border=\"1\" class=\"dataframe\">\n",
       "  <thead>\n",
       "    <tr style=\"text-align: right;\">\n",
       "      <th></th>\n",
       "      <th>target</th>\n",
       "      <th>text</th>\n",
       "    </tr>\n",
       "  </thead>\n",
       "  <tbody>\n",
       "    <tr>\n",
       "      <th>0</th>\n",
       "      <td>0</td>\n",
       "      <td>@switchfoot http://twitpic.com/2y1zl - Awww, t...</td>\n",
       "    </tr>\n",
       "    <tr>\n",
       "      <th>1</th>\n",
       "      <td>0</td>\n",
       "      <td>is upset that he can't update his Facebook by ...</td>\n",
       "    </tr>\n",
       "  </tbody>\n",
       "</table>\n",
       "</div>"
      ],
      "text/plain": [
       "   target                                               text\n",
       "0       0  @switchfoot http://twitpic.com/2y1zl - Awww, t...\n",
       "1       0  is upset that he can't update his Facebook by ..."
      ]
     },
     "execution_count": 6,
     "metadata": {},
     "output_type": "execute_result"
    }
   ],
   "source": [
    "dataset.drop([\"id\",\"date\",\"flag\",\"user\"],axis=1).head(2)"
   ]
  },
  {
   "cell_type": "code",
   "execution_count": 7,
   "id": "3d4f9cbc",
   "metadata": {},
   "outputs": [
    {
     "data": {
      "text/plain": [
       "0    800000\n",
       "4    800000\n",
       "Name: target, dtype: int64"
      ]
     },
     "execution_count": 7,
     "metadata": {},
     "output_type": "execute_result"
    }
   ],
   "source": [
    "dataset[\"target\"].value_counts()"
   ]
  },
  {
   "cell_type": "markdown",
   "id": "f1d8faf3",
   "metadata": {},
   "source": [
    "target 0 :- negative <br>\n",
    "target 4 :- positive"
   ]
  },
  {
   "cell_type": "markdown",
   "id": "a98aa26e",
   "metadata": {},
   "source": [
    "## preprocessing of data"
   ]
  },
  {
   "cell_type": "code",
   "execution_count": 8,
   "id": "8edba3a0",
   "metadata": {},
   "outputs": [],
   "source": [
    "text=list(dataset[\"text\"])"
   ]
  },
  {
   "cell_type": "code",
   "execution_count": 10,
   "id": "52593cfe",
   "metadata": {},
   "outputs": [],
   "source": [
    "#dictionary of all emojis with their meaning\n",
    "emoji={':)': 'smile', ':-)': 'smile', ';d': 'wink', ':-E': 'vampire', ':(': 'sad', \n",
    "          ':-(': 'sad', ':-<': 'sad', ':P': 'raspberry', ':O': 'surprised',\n",
    "          ':-@': 'shocked', ':@': 'shocked',':-$': 'confused', ':\\\\': 'annoyed', \n",
    "          ':#': 'mute', ':X': 'mute', ':^)': 'smile', ':-&': 'confused', '$_$': 'greedy',\n",
    "          '@@': 'eyeroll', ':-!': 'confused', ':-D': 'smile', ':-0': 'yell', 'O.o': 'confused',\n",
    "          '<(-_-)>': 'robot', 'd[-_-]b': 'dj', \":'-)\": 'sadsmile', ';)': 'wink', \n",
    "          ';-)': 'wink', 'O:-)': 'angel','O*-)': 'angel','(:-D': 'gossip', '=^.^=': 'cat'}"
   ]
  },
  {
   "cell_type": "code",
   "execution_count": 11,
   "id": "f687f7cc",
   "metadata": {},
   "outputs": [],
   "source": [
    "stopword=stopwords.words('english')"
   ]
  },
  {
   "cell_type": "code",
   "execution_count": 12,
   "id": "352db7a1",
   "metadata": {},
   "outputs": [],
   "source": [
    "\n",
    "def preprocess(text):\n",
    "    clean_text=[]\n",
    "    word_lemmatizer=WordNetLemmatizer()\n",
    "    for tweet in text:\n",
    "        tweet=tweet.lower()\n",
    "        tweet=re.sub(r\"((http://)[^ ]*|(https://)[^ ]*|( www\\.)[^ ]*)\",' URL',tweet)\n",
    "        for e in emoji.keys():\n",
    "            tweet.replace(e,\"emoji\"+emoji[e])\n",
    "        tweet=re.sub('@[^\\s]+',' user',tweet)\n",
    "        tweet=re.sub(\"[^a-zA-Z0-9]\",\" \",tweet)\n",
    "        tweet = re.sub(r\"(.)\\1\\1+\",r\"\\1\\1\",tweet)\n",
    "        tweetwords = ''\n",
    "        for word in tweet.split():\n",
    "            if len(word)>1:\n",
    "                word = word_lemmatizer.lemmatize(word)\n",
    "                tweetwords += (word+' ')\n",
    "\n",
    "        clean_text.append(tweetwords)\n",
    "    return clean_text"
   ]
  },
  {
   "cell_type": "code",
   "execution_count": 13,
   "id": "4a2d604a",
   "metadata": {},
   "outputs": [
    {
     "name": "stdout",
     "output_type": "stream",
     "text": [
      "Text Preprocessing complete.\n",
      "Time Taken: 159 seconds\n"
     ]
    }
   ],
   "source": [
    "import time\n",
    "t = time.time()\n",
    "processedtext=preprocess(text)\n",
    "print(f'Text Preprocessing complete.')\n",
    "print(f'Time Taken: {round(time.time()-t)} seconds')"
   ]
  },
  {
   "cell_type": "markdown",
   "id": "ccb7504e",
   "metadata": {},
   "source": [
    "## splitting dataset"
   ]
  },
  {
   "cell_type": "code",
   "execution_count": 14,
   "id": "2869f4a2",
   "metadata": {},
   "outputs": [],
   "source": [
    "x=processedtext\n",
    "y=list(dataset[\"target\"])"
   ]
  },
  {
   "cell_type": "code",
   "execution_count": 15,
   "id": "bfcf187d",
   "metadata": {},
   "outputs": [],
   "source": [
    "x_train,x_test,y_train,y_test=train_test_split(x,y,test_size=0.25)"
   ]
  },
  {
   "cell_type": "markdown",
   "id": "390ee32a",
   "metadata": {},
   "source": [
    "## Bag of Words"
   ]
  },
  {
   "cell_type": "code",
   "execution_count": 16,
   "id": "946b0ac8",
   "metadata": {},
   "outputs": [],
   "source": [
    "from sklearn.feature_extraction.text import CountVectorizer"
   ]
  },
  {
   "cell_type": "code",
   "execution_count": 17,
   "id": "a4ed0c72",
   "metadata": {},
   "outputs": [],
   "source": [
    "bow=CountVectorizer()\n",
    "bow_x_train=bow.fit_transform(x_train)\n",
    "bow_x_test=bow.transform(x_test)"
   ]
  },
  {
   "cell_type": "code",
   "execution_count": 18,
   "id": "6b36161f",
   "metadata": {},
   "outputs": [],
   "source": [
    "def Evaluate(model):\n",
    "    y_pred = model.predict(bow_x_test)\n",
    "    print(classification_report(y_test, y_pred))\n",
    "    matrix = confusion_matrix(y_test, y_pred)\n",
    "    print(\"Confusion matrix\")\n",
    "    print(matrix)"
   ]
  },
  {
   "cell_type": "markdown",
   "id": "7ff30556",
   "metadata": {},
   "source": [
    "## applying tfidf Vectorizer"
   ]
  },
  {
   "cell_type": "code",
   "execution_count": 19,
   "id": "4121bf49",
   "metadata": {},
   "outputs": [],
   "source": [
    "tfidf=TfidfVectorizer()\n",
    "tfidf_x_train=tfidf.fit_transform(x_train)"
   ]
  },
  {
   "cell_type": "code",
   "execution_count": 20,
   "id": "5bfd2404",
   "metadata": {},
   "outputs": [],
   "source": [
    "tfidf_x_test=tfidf.transform(x_test)"
   ]
  },
  {
   "cell_type": "code",
   "execution_count": 21,
   "id": "7be6d4cc",
   "metadata": {},
   "outputs": [],
   "source": [
    "def Evaluate(model):\n",
    "    y_pred = model.predict(tfidf_x_test)\n",
    "    print(classification_report(y_test, y_pred))\n",
    "    matrix = confusion_matrix(y_test, y_pred)\n",
    "    print(\"Confusion matrix\")\n",
    "    print(matrix)"
   ]
  },
  {
   "cell_type": "markdown",
   "id": "1a8aa388",
   "metadata": {},
   "source": [
    "## Bernoulli Naive Bayes using tfidf"
   ]
  },
  {
   "cell_type": "code",
   "execution_count": 22,
   "id": "bd9f5613",
   "metadata": {},
   "outputs": [
    {
     "data": {
      "text/plain": [
       "BernoulliNB(alpha=2)"
      ]
     },
     "execution_count": 22,
     "metadata": {},
     "output_type": "execute_result"
    }
   ],
   "source": [
    "BNBmodel = BernoulliNB(alpha = 2)\n",
    "BNBmodel.fit(tfidf_x_train,y_train)"
   ]
  },
  {
   "cell_type": "code",
   "execution_count": 23,
   "id": "a50de6e9",
   "metadata": {},
   "outputs": [
    {
     "name": "stdout",
     "output_type": "stream",
     "text": [
      "              precision    recall  f1-score   support\n",
      "\n",
      "           0       0.78      0.78      0.78    200446\n",
      "           4       0.78      0.78      0.78    199554\n",
      "\n",
      "    accuracy                           0.78    400000\n",
      "   macro avg       0.78      0.78      0.78    400000\n",
      "weighted avg       0.78      0.78      0.78    400000\n",
      "\n",
      "Confusion matrix\n",
      "[[155617  44829]\n",
      " [ 43440 156114]]\n"
     ]
    }
   ],
   "source": [
    "Evaluate(BNBmodel)"
   ]
  },
  {
   "cell_type": "markdown",
   "id": "9f906f32",
   "metadata": {},
   "source": [
    "## Bernoulli NB with BOW"
   ]
  },
  {
   "cell_type": "code",
   "execution_count": 24,
   "id": "30f9a139",
   "metadata": {},
   "outputs": [
    {
     "data": {
      "text/plain": [
       "BernoulliNB(alpha=2)"
      ]
     },
     "execution_count": 24,
     "metadata": {},
     "output_type": "execute_result"
    }
   ],
   "source": [
    "BNBmodel.fit(bow_x_train,y_train)"
   ]
  },
  {
   "cell_type": "code",
   "execution_count": 25,
   "id": "21561fa9",
   "metadata": {},
   "outputs": [
    {
     "name": "stdout",
     "output_type": "stream",
     "text": [
      "              precision    recall  f1-score   support\n",
      "\n",
      "           0       0.78      0.78      0.78    200446\n",
      "           4       0.78      0.78      0.78    199554\n",
      "\n",
      "    accuracy                           0.78    400000\n",
      "   macro avg       0.78      0.78      0.78    400000\n",
      "weighted avg       0.78      0.78      0.78    400000\n",
      "\n",
      "Confusion matrix\n",
      "[[155617  44829]\n",
      " [ 43440 156114]]\n"
     ]
    }
   ],
   "source": [
    "Evaluate(BNBmodel)"
   ]
  },
  {
   "cell_type": "markdown",
   "id": "94ead2ff",
   "metadata": {},
   "source": [
    "## Linear SVC model with Tfidf"
   ]
  },
  {
   "cell_type": "code",
   "execution_count": 26,
   "id": "5f7a8b44",
   "metadata": {},
   "outputs": [
    {
     "data": {
      "text/plain": [
       "LinearSVC()"
      ]
     },
     "execution_count": 26,
     "metadata": {},
     "output_type": "execute_result"
    }
   ],
   "source": [
    "SVC_model=LinearSVC()\n",
    "SVC_model.fit(tfidf_x_train,y_train)"
   ]
  },
  {
   "cell_type": "code",
   "execution_count": 27,
   "id": "f6725e6e",
   "metadata": {},
   "outputs": [
    {
     "name": "stdout",
     "output_type": "stream",
     "text": [
      "              precision    recall  f1-score   support\n",
      "\n",
      "           0       0.80      0.79      0.79    200446\n",
      "           4       0.79      0.80      0.80    199554\n",
      "\n",
      "    accuracy                           0.79    400000\n",
      "   macro avg       0.79      0.79      0.79    400000\n",
      "weighted avg       0.79      0.79      0.79    400000\n",
      "\n",
      "Confusion matrix\n",
      "[[157405  43041]\n",
      " [ 39433 160121]]\n"
     ]
    }
   ],
   "source": [
    "Evaluate(SVC_model)"
   ]
  },
  {
   "cell_type": "markdown",
   "id": "7afca11f",
   "metadata": {},
   "source": [
    "## Linear SVC with BOW"
   ]
  },
  {
   "cell_type": "code",
   "execution_count": 28,
   "id": "7d1b5f22",
   "metadata": {},
   "outputs": [
    {
     "data": {
      "text/plain": [
       "LinearSVC()"
      ]
     },
     "execution_count": 28,
     "metadata": {},
     "output_type": "execute_result"
    }
   ],
   "source": [
    "SVC_model.fit(bow_x_train,y_train)"
   ]
  },
  {
   "cell_type": "code",
   "execution_count": 29,
   "id": "843386d2",
   "metadata": {},
   "outputs": [
    {
     "name": "stdout",
     "output_type": "stream",
     "text": [
      "              precision    recall  f1-score   support\n",
      "\n",
      "           0       0.80      0.71      0.75    200446\n",
      "           4       0.74      0.82      0.78    199554\n",
      "\n",
      "    accuracy                           0.76    400000\n",
      "   macro avg       0.77      0.76      0.76    400000\n",
      "weighted avg       0.77      0.76      0.76    400000\n",
      "\n",
      "Confusion matrix\n",
      "[[141509  58937]\n",
      " [ 35232 164322]]\n"
     ]
    }
   ],
   "source": [
    "Evaluate(SVC_model)"
   ]
  },
  {
   "cell_type": "markdown",
   "id": "a7042d22",
   "metadata": {},
   "source": [
    "## Logistic Regression with tfidf "
   ]
  },
  {
   "cell_type": "code",
   "execution_count": 30,
   "id": "ee2668f9",
   "metadata": {},
   "outputs": [
    {
     "data": {
      "text/plain": [
       "LogisticRegression(C=2, max_iter=1000, n_jobs=-1)"
      ]
     },
     "execution_count": 30,
     "metadata": {},
     "output_type": "execute_result"
    }
   ],
   "source": [
    "LR_model = LogisticRegression(C=2,max_iter=1000,n_jobs=-1)\n",
    "LR_model.fit(tfidf_x_train, y_train)"
   ]
  },
  {
   "cell_type": "code",
   "execution_count": 31,
   "id": "08561485",
   "metadata": {},
   "outputs": [
    {
     "name": "stdout",
     "output_type": "stream",
     "text": [
      "              precision    recall  f1-score   support\n",
      "\n",
      "           0       0.81      0.79      0.80    200446\n",
      "           4       0.79      0.81      0.80    199554\n",
      "\n",
      "    accuracy                           0.80    400000\n",
      "   macro avg       0.80      0.80      0.80    400000\n",
      "weighted avg       0.80      0.80      0.80    400000\n",
      "\n",
      "Confusion matrix\n",
      "[[158475  41971]\n",
      " [ 38243 161311]]\n"
     ]
    }
   ],
   "source": [
    "Evaluate(LR_model)"
   ]
  },
  {
   "cell_type": "markdown",
   "id": "55105a6d",
   "metadata": {},
   "source": [
    "## Logistic Regression with BOW"
   ]
  },
  {
   "cell_type": "code",
   "execution_count": 32,
   "id": "cef4684f",
   "metadata": {},
   "outputs": [
    {
     "data": {
      "text/plain": [
       "LogisticRegression(C=2, max_iter=1000, n_jobs=-1)"
      ]
     },
     "execution_count": 32,
     "metadata": {},
     "output_type": "execute_result"
    }
   ],
   "source": [
    "LR_model.fit(bow_x_train,y_train)"
   ]
  },
  {
   "cell_type": "code",
   "execution_count": 33,
   "id": "dbe7d443",
   "metadata": {},
   "outputs": [
    {
     "name": "stdout",
     "output_type": "stream",
     "text": [
      "              precision    recall  f1-score   support\n",
      "\n",
      "           0       0.81      0.72      0.76    200446\n",
      "           4       0.74      0.83      0.79    199554\n",
      "\n",
      "    accuracy                           0.77    400000\n",
      "   macro avg       0.78      0.77      0.77    400000\n",
      "weighted avg       0.78      0.77      0.77    400000\n",
      "\n",
      "Confusion matrix\n",
      "[[143522  56924]\n",
      " [ 33372 166182]]\n"
     ]
    }
   ],
   "source": [
    "Evaluate(LR_model)"
   ]
  },
  {
   "cell_type": "markdown",
   "id": "aa24250b",
   "metadata": {},
   "source": [
    "## Saving models"
   ]
  },
  {
   "cell_type": "code",
   "execution_count": 36,
   "id": "9cc3b3e2",
   "metadata": {},
   "outputs": [],
   "source": [
    "file = open('vectoriser.pickle','wb')\n",
    "pickle.dump(tfidf, file)\n",
    "file.close()\n",
    "\n",
    "file = open('Sentiment-Linear SVC.pickle','wb')\n",
    "pickle.dump(LR_model, file)\n",
    "file.close()\n",
    "\n",
    "file = open('Sentiment-LR.pickle','wb')\n",
    "pickle.dump(SVC_model, file)\n",
    "file.close()"
   ]
  },
  {
   "cell_type": "markdown",
   "id": "6c24d3ef",
   "metadata": {},
   "source": [
    "## using trained model "
   ]
  },
  {
   "cell_type": "code",
   "execution_count": 37,
   "id": "75bc5aa1",
   "metadata": {},
   "outputs": [],
   "source": [
    "def load_model():\n",
    "    file = open('vectoriser.pickle', 'rb')\n",
    "    vectoriser = pickle.load(file)\n",
    "    file.close()\n",
    "    file = open('Sentiment-LR.pickle', 'rb')\n",
    "    LRmodel = pickle.load(file)\n",
    "    file.close()\n",
    "    return vectoriser, LRmodel\n"
   ]
  },
  {
   "cell_type": "code",
   "execution_count": 38,
   "id": "7f77a41b",
   "metadata": {},
   "outputs": [],
   "source": [
    "def predict(tfidf, model, text):\n",
    "    textdata=tfidf.transform(preprocess(text))\n",
    "    sentiment=model.predict(textdata)\n",
    "    data = []\n",
    "    for text, pred in zip(text, sentiment):\n",
    "        data.append((text,pred))\n",
    "    df = pd.DataFrame(data, columns = ['text','result'])\n",
    "    df = df.replace([0,4], [\"Negative\",\"Positive\"])\n",
    "    return df"
   ]
  },
  {
   "cell_type": "code",
   "execution_count": 39,
   "id": "06af2cd9",
   "metadata": {},
   "outputs": [
    {
     "name": "stdout",
     "output_type": "stream",
     "text": [
      "                         text    result\n",
      "0              I hate twitter  Negative\n",
      "1  May the Force be with you.  Positive\n",
      "2              I feel so good  Positive\n"
     ]
    }
   ],
   "source": [
    "if __name__==\"__main__\":\n",
    "    text = [\"I hate twitter\",\n",
    "            \"May the Force be with you.\",\n",
    "            \"I feel so good\"]\n",
    "    \n",
    "    df = predict(tfidf, LR_model, text)\n",
    "    print(df.head())"
   ]
  },
  {
   "cell_type": "code",
   "execution_count": 42,
   "id": "042d05ec",
   "metadata": {},
   "outputs": [
    {
     "name": "stdout",
     "output_type": "stream",
     "text": [
      "+---------------------+-----------------+---------------+\n",
      "|      model used     | accuracy(Tfidf) | accuracy(bow) |\n",
      "+---------------------+-----------------+---------------+\n",
      "|     Bernoulli NB    |       0.78      |      0.78     |\n",
      "|      Linear SVC     |       0.79      |      0.76     |\n",
      "| Logistic Regression |       0.80      |      0.77     |\n",
      "+---------------------+-----------------+---------------+\n"
     ]
    }
   ],
   "source": [
    "from prettytable import PrettyTable\n",
    "myTable = PrettyTable([\"model used\", \"accuracy(Tfidf)\", \"accuracy(bow)\"])\n",
    "\n",
    "myTable.add_row([\"Bernoulli NB\", \"0.78\", \"0.78\"])\n",
    "myTable.add_row([\"Linear SVC\", \"0.79\", \"0.76\"])\n",
    "myTable.add_row([\"Logistic Regression\", \"0.80\", \"0.77\"])\n",
    "\n",
    "print(myTable)\n",
    "  "
   ]
  },
  {
   "cell_type": "code",
   "execution_count": null,
   "id": "a1aaf1e5",
   "metadata": {},
   "outputs": [],
   "source": []
  }
 ],
 "metadata": {
  "kernelspec": {
   "display_name": "Python 3 (ipykernel)",
   "language": "python",
   "name": "python3"
  },
  "language_info": {
   "codemirror_mode": {
    "name": "ipython",
    "version": 3
   },
   "file_extension": ".py",
   "mimetype": "text/x-python",
   "name": "python",
   "nbconvert_exporter": "python",
   "pygments_lexer": "ipython3",
   "version": "3.9.12"
  }
 },
 "nbformat": 4,
 "nbformat_minor": 5
}
